{
 "cells": [
  {
   "cell_type": "markdown",
   "metadata": {},
   "source": [
    "### Install libraries"
   ]
  },
  {
   "cell_type": "code",
   "execution_count": 1,
   "metadata": {},
   "outputs": [],
   "source": [
    "from IPython.display import clear_output\n",
    "\n",
    "!pip install datasets\n",
    "!pip install nltk\n",
    "clear_output(wait=False)"
   ]
  },
  {
   "cell_type": "markdown",
   "metadata": {},
   "source": [
    "### Dataset\n",
    "\n",
    "I chose dataset [karpathy/tiny_shakespeare](https://huggingface.co/datasets/karpathy/tiny_shakespeare)"
   ]
  },
  {
   "cell_type": "markdown",
   "metadata": {},
   "source": [
    "Dataset loading"
   ]
  },
  {
   "cell_type": "code",
   "execution_count": 2,
   "metadata": {},
   "outputs": [
    {
     "name": "stderr",
     "output_type": "stream",
     "text": [
      "m:\\python_projects\\context_sensitive_spelling_correction\\venv\\Lib\\site-packages\\tqdm\\auto.py:21: TqdmWarning: IProgress not found. Please update jupyter and ipywidgets. See https://ipywidgets.readthedocs.io/en/stable/user_install.html\n",
      "  from .autonotebook import tqdm as notebook_tqdm\n"
     ]
    }
   ],
   "source": [
    "import datasets\n",
    "from datasets import load_dataset\n",
    "\n",
    "ds = load_dataset(\"karpathy/tiny_shakespeare\", trust_remote_code=True)"
   ]
  },
  {
   "cell_type": "code",
   "execution_count": 3,
   "metadata": {},
   "outputs": [
    {
     "data": {
      "text/plain": [
       "DatasetDict({\n",
       "    train: Dataset({\n",
       "        features: ['text'],\n",
       "        num_rows: 1\n",
       "    })\n",
       "    validation: Dataset({\n",
       "        features: ['text'],\n",
       "        num_rows: 1\n",
       "    })\n",
       "    test: Dataset({\n",
       "        features: ['text'],\n",
       "        num_rows: 1\n",
       "    })\n",
       "})"
      ]
     },
     "execution_count": 3,
     "metadata": {},
     "output_type": "execute_result"
    }
   ],
   "source": [
    "ds"
   ]
  },
  {
   "cell_type": "code",
   "execution_count": 4,
   "metadata": {},
   "outputs": [
    {
     "data": {
      "text/plain": [
       "1003854"
      ]
     },
     "execution_count": 4,
     "metadata": {},
     "output_type": "execute_result"
    }
   ],
   "source": [
    "data = ds['train'][0]['text']\n",
    "len(data)"
   ]
  },
  {
   "cell_type": "markdown",
   "metadata": {},
   "source": [
    "Preprocessing and tokenization"
   ]
  },
  {
   "cell_type": "code",
   "execution_count": 5,
   "metadata": {},
   "outputs": [
    {
     "name": "stderr",
     "output_type": "stream",
     "text": [
      "[nltk_data] Downloading package punkt to\n",
      "[nltk_data]     C:\\Users\\milya\\AppData\\Roaming\\nltk_data...\n",
      "[nltk_data]   Package punkt is already up-to-date!\n"
     ]
    }
   ],
   "source": [
    "import nltk\n",
    "from nltk.tokenize import word_tokenize\n",
    "import re\n",
    "\n",
    "nltk.download('punkt')\n",
    "\n",
    "\n",
    "def preprocess_text(text):\n",
    "    text = text.lower()\n",
    "    text = re.sub(r\"[^a-zA-Z0-9\\s]\", \"\", text)\n",
    "    tokens = word_tokenize(text)\n",
    "    return tokens"
   ]
  },
  {
   "cell_type": "code",
   "execution_count": 6,
   "metadata": {},
   "outputs": [
    {
     "name": "stdout",
     "output_type": "stream",
     "text": [
      "['first', 'citizen', 'before', 'we', 'proceed', 'any', 'further', 'hear', 'me', 'speak', 'all', 'speak', 'speak', 'first', 'citizen', 'you', 'are', 'all', 'resolved', 'rather']\n"
     ]
    }
   ],
   "source": [
    "tokens = preprocess_text(data)\n",
    "print(tokens[:20])"
   ]
  },
  {
   "cell_type": "markdown",
   "metadata": {},
   "source": [
    "Generating N-grams"
   ]
  },
  {
   "cell_type": "code",
   "execution_count": 7,
   "metadata": {},
   "outputs": [
    {
     "name": "stdout",
     "output_type": "stream",
     "text": [
      "[('<s>', '<s>', 'first'), ('<s>', 'first', 'citizen'), ('first', 'citizen', 'before'), ('citizen', 'before', 'we'), ('before', 'we', 'proceed')]\n"
     ]
    }
   ],
   "source": [
    "def generate_ngrams(tokens, n):\n",
    "    tokens = ['<s>'] * (n-1) + tokens + ['</s>']\n",
    "    ngrams = [tuple(tokens[i:i+n]) for i in range(len(tokens)-n+1)]\n",
    "    return ngrams\n",
    "\n",
    "trigrams = generate_ngrams(tokens, 3)\n",
    "print(trigrams[:5])"
   ]
  },
  {
   "cell_type": "markdown",
   "metadata": {},
   "source": [
    "Training N-gram model"
   ]
  },
  {
   "cell_type": "code",
   "execution_count": 8,
   "metadata": {},
   "outputs": [],
   "source": [
    "from collections import defaultdict, Counter\n",
    "\n",
    "def train_ngram_model(text, n):\n",
    "    ngram_counts = defaultdict(Counter)\n",
    "    tokens = preprocess_text(text)\n",
    "    ngrams = generate_ngrams(tokens, n)\n",
    "    \n",
    "    for ngram in ngrams:\n",
    "        prefix = tuple(ngram[:-1])\n",
    "        word = ngram[-1]\n",
    "        ngram_counts[prefix][word] += 1\n",
    "\n",
    "    ngram_probs = {\n",
    "        prefix: {word: count / sum(counts.values())\n",
    "                 for word, count in counts.items()}\n",
    "        for prefix, counts in ngram_counts.items()\n",
    "    }\n",
    "    return ngram_probs"
   ]
  },
  {
   "cell_type": "code",
   "execution_count": 9,
   "metadata": {},
   "outputs": [
    {
     "name": "stdout",
     "output_type": "stream",
     "text": [
      "{'toe': 0.1875, 'aufidius': 0.0625, 'king': 0.0625, 'rich': 0.0625, 'chamber': 0.0625, 'lord': 0.0625, 'commanding': 0.0625, 'apollo': 0.125, 'comfort': 0.0625, 'pompey': 0.0625, 'soldier': 0.0625, 'traveller': 0.0625, 'desire': 0.0625}\n"
     ]
    }
   ],
   "source": [
    "trigram_model = train_ngram_model(data, 3)\n",
    "\n",
    "print(trigram_model.get((\"the\", \"great\"), {}))"
   ]
  },
  {
   "cell_type": "markdown",
   "metadata": {},
   "source": [
    "Handling unseen N-grams with Laplace smoothing"
   ]
  },
  {
   "cell_type": "code",
   "execution_count": 10,
   "metadata": {},
   "outputs": [],
   "source": [
    "def laplace_smoothing(model, vocab_size, alpha=1):\n",
    "    smoothed_model = {}\n",
    "    \n",
    "    for prefix, words in model.items():\n",
    "        smoothed_model[prefix] = {\n",
    "            word: (count + alpha) / (sum(words.values()) + alpha * vocab_size)\n",
    "            for word, count in words.items()\n",
    "        }\n",
    "    \n",
    "    return smoothed_model"
   ]
  },
  {
   "cell_type": "code",
   "execution_count": 11,
   "metadata": {},
   "outputs": [
    {
     "name": "stdout",
     "output_type": "stream",
     "text": [
      "{'toe': 9.835997680775283e-05, 'aufidius': 8.80062950385157e-05, 'king': 8.80062950385157e-05, 'rich': 8.80062950385157e-05, 'chamber': 8.80062950385157e-05, 'lord': 8.80062950385157e-05, 'commanding': 8.80062950385157e-05, 'apollo': 9.318313592313427e-05, 'comfort': 8.80062950385157e-05, 'pompey': 8.80062950385157e-05, 'soldier': 8.80062950385157e-05, 'traveller': 8.80062950385157e-05, 'desire': 8.80062950385157e-05}\n"
     ]
    }
   ],
   "source": [
    "vocab_size = len(set(word for counts in trigram_model.values() for word in counts))\n",
    "trigram_model_smoothed = laplace_smoothing(trigram_model, vocab_size)\n",
    "\n",
    "print(trigram_model_smoothed.get((\"the\", \"great\"), {}))"
   ]
  },
  {
   "cell_type": "markdown",
   "metadata": {},
   "source": [
    "Saving the model"
   ]
  },
  {
   "cell_type": "code",
   "execution_count": 12,
   "metadata": {},
   "outputs": [
    {
     "name": "stdout",
     "output_type": "stream",
     "text": [
      "model saved\n"
     ]
    }
   ],
   "source": [
    "import pickle\n",
    "\n",
    "with open(r\"models/trigram_model_shakespeare.pkl\", \"wb\") as f:\n",
    "    pickle.dump(trigram_model_smoothed, f)\n",
    "print(\"model saved\")"
   ]
  },
  {
   "cell_type": "markdown",
   "metadata": {},
   "source": [
    "Checking the model loading"
   ]
  },
  {
   "cell_type": "code",
   "execution_count": 13,
   "metadata": {},
   "outputs": [
    {
     "name": "stdout",
     "output_type": "stream",
     "text": [
      "model loaded\n",
      "{'toe': 9.835997680775283e-05, 'aufidius': 8.80062950385157e-05, 'king': 8.80062950385157e-05, 'rich': 8.80062950385157e-05, 'chamber': 8.80062950385157e-05, 'lord': 8.80062950385157e-05, 'commanding': 8.80062950385157e-05, 'apollo': 9.318313592313427e-05, 'comfort': 8.80062950385157e-05, 'pompey': 8.80062950385157e-05, 'soldier': 8.80062950385157e-05, 'traveller': 8.80062950385157e-05, 'desire': 8.80062950385157e-05}\n"
     ]
    }
   ],
   "source": [
    "with open(r\"models/trigram_model_shakespeare.pkl\", \"rb\") as f:\n",
    "    loaded_model = pickle.load(f)\n",
    "\n",
    "print(\"model loaded\")\n",
    "print(loaded_model.get((\"the\", \"great\"), {}))"
   ]
  },
  {
   "cell_type": "code",
   "execution_count": null,
   "metadata": {},
   "outputs": [],
   "source": []
  }
 ],
 "metadata": {
  "kernelspec": {
   "display_name": "venv",
   "language": "python",
   "name": "python3"
  },
  "language_info": {
   "codemirror_mode": {
    "name": "ipython",
    "version": 3
   },
   "file_extension": ".py",
   "mimetype": "text/x-python",
   "name": "python",
   "nbconvert_exporter": "python",
   "pygments_lexer": "ipython3",
   "version": "3.11.9"
  }
 },
 "nbformat": 4,
 "nbformat_minor": 2
}
