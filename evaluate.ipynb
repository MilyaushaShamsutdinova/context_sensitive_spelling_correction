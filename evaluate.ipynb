{
 "cells": [
  {
   "cell_type": "markdown",
   "metadata": {},
   "source": [
    "### Intall libraries"
   ]
  },
  {
   "cell_type": "code",
   "execution_count": 35,
   "metadata": {},
   "outputs": [],
   "source": [
    "from IPython.display import clear_output\n",
    "\n",
    "!pip install datasets\n",
    "!pip install scikit-learn\n",
    "!pip install RapidFuzz\n",
    "clear_output(wait=False)"
   ]
  },
  {
   "cell_type": "markdown",
   "metadata": {},
   "source": [
    "### Evaluate\n",
    "\n",
    "Dataset chosen for evaluation: [vishnun/SpellGram](https://huggingface.co/datasets/vishnun/SpellGram)"
   ]
  },
  {
   "cell_type": "markdown",
   "metadata": {},
   "source": [
    "Load eval dataset"
   ]
  },
  {
   "cell_type": "code",
   "execution_count": 40,
   "metadata": {},
   "outputs": [],
   "source": [
    "from datasets import load_dataset\n",
    "\n",
    "ds = load_dataset(\"vishnun/SpellGram\", trust_remote_code=True)\n",
    "ds = ds[\"train\"].shuffle(seed=42).select(range(10000))"
   ]
  },
  {
   "cell_type": "code",
   "execution_count": 41,
   "metadata": {},
   "outputs": [
    {
     "data": {
      "text/plain": [
       "Dataset({\n",
       "    features: ['source', 'target'],\n",
       "    num_rows: 10000\n",
       "})"
      ]
     },
     "execution_count": 41,
     "metadata": {},
     "output_type": "execute_result"
    }
   ],
   "source": [
    "ds"
   ]
  },
  {
   "cell_type": "code",
   "execution_count": 42,
   "metadata": {},
   "outputs": [
    {
     "data": {
      "text/plain": [
       "{'source': 'i havv arranged a conference call to oiscuss these matters further',\n",
       " 'target': 'i have arranged a conference call to discuss these matters further'}"
      ]
     },
     "execution_count": 42,
     "metadata": {},
     "output_type": "execute_result"
    }
   ],
   "source": [
    "ds[0]"
   ]
  },
  {
   "cell_type": "markdown",
   "metadata": {},
   "source": [
    "Load spelling corrector"
   ]
  },
  {
   "cell_type": "code",
   "execution_count": 43,
   "metadata": {},
   "outputs": [
    {
     "name": "stdout",
     "output_type": "stream",
     "text": [
      "  initial:  to be or not to ve\n",
      "corrected:  to be or not to be\n"
     ]
    }
   ],
   "source": [
    "from spelling_corrector_baseline import ContextSensitiveSpellCorrector\n",
    "\n",
    "\n",
    "ngram_model_path = r\"models\\trigram_model_shakespeare.pkl\"\n",
    "spell_corrector = ContextSensitiveSpellCorrector(ngram_model_path, n=3)\n",
    "\n",
    "sentence = \"to be or not to ve\"\n",
    "corrected_sentence = spell_corrector.correct_sentence(sentence)\n",
    "print(\"  initial: \", sentence)\n",
    "print(\"corrected: \", corrected_sentence)"
   ]
  },
  {
   "cell_type": "markdown",
   "metadata": {},
   "source": [
    "Evaluation of baseline model"
   ]
  },
  {
   "cell_type": "code",
   "execution_count": 44,
   "metadata": {},
   "outputs": [],
   "source": [
    "from rapidfuzz.distance import Levenshtein\n",
    "from tqdm import tqdm\n",
    "\n",
    "\n",
    "def evaluate_spelling_corrector(corrector, test_data):\n",
    "    total_words = 0\n",
    "    correct_words = 0\n",
    "    total_chars = 0\n",
    "    total_edit_distance = 0\n",
    "    \n",
    "    for example in tqdm(test_data):\n",
    "        source = example[\"source\"]\n",
    "        target = example[\"target\"]\n",
    "        corrected = corrector.correct_sentence(source)\n",
    "        \n",
    "        # Word Accuracy\n",
    "        target_words = target.split()\n",
    "        corrected_words = corrected.split()\n",
    "        \n",
    "        total_words += len(target_words)\n",
    "        correct_words += sum(1 for tw, cw in zip(target_words, corrected_words) if tw == cw)\n",
    "        \n",
    "        # Character Error Rate (CER)\n",
    "        total_chars += len(target)\n",
    "        total_edit_distance += Levenshtein.distance(target, corrected)\n",
    "\n",
    "    word_accuracy = correct_words / total_words if total_words > 0 else 0\n",
    "    cer = total_edit_distance / total_chars if total_chars > 0 else 0\n",
    "\n",
    "    return {\"word_accuracy\": word_accuracy, \"character_error_rate\": cer}"
   ]
  },
  {
   "cell_type": "code",
   "execution_count": 46,
   "metadata": {},
   "outputs": [
    {
     "name": "stderr",
     "output_type": "stream",
     "text": [
      "100%|██████████| 10000/10000 [29:41<00:00,  5.61it/s]"
     ]
    },
    {
     "name": "stdout",
     "output_type": "stream",
     "text": [
      "Word accuracy: 0.7058\n",
      "Character error rate: 0.0781\n"
     ]
    },
    {
     "name": "stderr",
     "output_type": "stream",
     "text": [
      "\n"
     ]
    }
   ],
   "source": [
    "result = evaluate_spelling_corrector(spell_corrector, ds)\n",
    "\n",
    "print(f\"Word accuracy: {result['word_accuracy']:.4f}\")\n",
    "print(f\"Character error rate: {result['character_error_rate']:.4f}\")"
   ]
  },
  {
   "cell_type": "markdown",
   "metadata": {},
   "source": [
    "Evaluation improved model"
   ]
  },
  {
   "cell_type": "code",
   "execution_count": null,
   "metadata": {},
   "outputs": [],
   "source": [
    "# TO_DO"
   ]
  },
  {
   "cell_type": "code",
   "execution_count": null,
   "metadata": {},
   "outputs": [],
   "source": []
  }
 ],
 "metadata": {
  "kernelspec": {
   "display_name": "venv",
   "language": "python",
   "name": "python3"
  },
  "language_info": {
   "codemirror_mode": {
    "name": "ipython",
    "version": 3
   },
   "file_extension": ".py",
   "mimetype": "text/x-python",
   "name": "python",
   "nbconvert_exporter": "python",
   "pygments_lexer": "ipython3",
   "version": "3.11.9"
  }
 },
 "nbformat": 4,
 "nbformat_minor": 2
}
